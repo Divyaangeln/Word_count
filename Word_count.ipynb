{
 "cells": [
  {
   "cell_type": "markdown",
   "id": "a715aad0",
   "metadata": {},
   "source": [
    "Write a Python program to count the occurrences of each word in a string."
   ]
  },
  {
   "cell_type": "code",
   "execution_count": 1,
   "id": "431092d6",
   "metadata": {},
   "outputs": [
    {
     "name": "stdout",
     "output_type": "stream",
     "text": [
      "{'hello': 2, 'world': 1}\n"
     ]
    }
   ],
   "source": [
    "def word_count(s):\n",
    "    words = s.split()\n",
    "    count = {}\n",
    "    for word in words:\n",
    "        count[word] = count.get(word, 0) + 1\n",
    "    return count\n",
    "\n",
    "# Example usage\n",
    "print(word_count(\"hello world hello\"))"
   ]
  }
 ],
 "metadata": {
  "kernelspec": {
   "display_name": "Python 3 (ipykernel)",
   "language": "python",
   "name": "python3"
  },
  "language_info": {
   "codemirror_mode": {
    "name": "ipython",
    "version": 3
   },
   "file_extension": ".py",
   "mimetype": "text/x-python",
   "name": "python",
   "nbconvert_exporter": "python",
   "pygments_lexer": "ipython3",
   "version": "3.10.9"
  }
 },
 "nbformat": 4,
 "nbformat_minor": 5
}
